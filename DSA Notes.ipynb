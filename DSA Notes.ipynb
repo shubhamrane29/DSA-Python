{
 "cells": [
  {
   "cell_type": "markdown",
   "metadata": {},
   "source": [
    "<center><h1>Data Structures and Algorithms</h1></center>\n",
    "<hr style=\"border:0.5px solid gray\">"
   ]
  },
  {
   "cell_type": "markdown",
   "metadata": {},
   "source": [
    "Built in Data Structures\n",
    "- <a href='#List'>List</a>\n",
    "- <a href='#Tuple'>Tuple</a>\n",
    "- <a href='#Set'>Set</a>\n",
    "- <a href='#Dictionary'>Dictionary</a>\n",
    "\n",
    "User Defined Data Structures\n",
    "- <a href='#Stack'>Stack</a>\n",
    "- <a href='#Queue'>Queue</a>\n",
    "- <a href='#Linked List'>Linked List</a>\n",
    "- <a href='#Tree'>Tree</a>\n",
    "- <a href='#Graph'>Graph</a>\n",
    "\n",
    "<hr style=\"border:0.1px solid gray\">\n",
    "<a id='List'><h3>List</h3></a>\n",
    "\n",
    "- Collection of zero to many elements, seperated by commas in square brackets\n",
    "- [1,2,3,4]\n",
    "- ['Hello', 'World', 1, 4.2]\n",
    "- List are ordered\n",
    "- List can be nested\n",
    "- List are mutable i.e., can be modified\n",
    "- List are dynamic i.e., it can grow and shirt\n",
    "\n",
    "<hr style=\"border:0.1px solid gray\">\n",
    "<a id='Tuple'><h3>Tuple</h3></a>\n",
    "\n",
    "- Collection of zero to many comma seperated elements enclosed in paranthesis\n",
    "- (1,2,3,4)\n",
    "- If we store (2) in tuple its data type can is integer, to make it tuple write (2,)\n",
    "- Tuples aren't mutable\n",
    "- Tuples can be nested\n",
    "- Tuples are faster than list\n",
    "- It guards against accidental modifications\n",
    "\n",
    "<hr style=\"border:0.1px solid gray\">\n",
    "<a id='Dictionary'><h3>Dictionary</h3></a>\n",
    "\n",
    "- Key value parameters seperated by colans\n",
    "- {key1: val1, key2: val2}\n",
    "- Dictionaries are mutable but keys are not mutable i.e., keys can be 'string' but not a ['List']\n",
    "- We should always have unique keys as we access the value in dictionary using keys\n",
    "- Dictionary is not ordered\n",
    "\n",
    "<hr style=\"border:0.1px solid gray\">\n",
    "<a id='Set'><h3>Set</h3></a>\n",
    "\n",
    "- Unique values enclosed in curly brackets\n",
    "- {1,2,3,4}\n",
    "- Repeated elements can be ignored\n",
    "- Set is not ordered\n",
    "- Set is mutable\n",
    "- Set cannot be nested\n",
    "- set can have many data types {'hey;,1,1.3} but cannot have set within {{1,2}, 3}\n",
    "- To check the value we use 'in' operator. s={1,2,3}; 1 in s; True"
   ]
  },
  {
   "cell_type": "markdown",
   "metadata": {},
   "source": [
    "<hr style=\"border:0.1px solid gray\">\n",
    "<a id='Stack'><h3>Stack</h3></a>\n",
    "\n",
    "- Stack is an ordered collection of items\n",
    "- Removal and addition of the item is taken from same end\n",
    "- It is LIFO i.e., Last in first out\n",
    "- It has four operations:\n",
    "    - Push: Adds element to the stack\n",
    "    - Pop: Pops the element out of the stack\n",
    "    - Peek or Top: Gives the element that is present on top\n",
    "    - isEmpty: Stack is empty or not"
   ]
  },
  {
   "cell_type": "code",
   "execution_count": 2,
   "metadata": {},
   "outputs": [
    {
     "name": "stdout",
     "output_type": "stream",
     "text": [
      "Stack is empty: True\n",
      "Stack: [10, 20, 30]\n",
      "Stack after pop: [10, 20]\n",
      "Last element of stack is: 20\n"
     ]
    }
   ],
   "source": [
    "stack = []\n",
    "print('Stack is empty:',not stack)\n",
    "stack.append(10)\n",
    "stack.append(20)\n",
    "stack.append(30)\n",
    "print('Stack:',stack)\n",
    "stack.pop()\n",
    "print('Stack after pop:',stack)\n",
    "print('Last element of stack is:',stack[-1])"
   ]
  },
  {
   "cell_type": "code",
   "execution_count": null,
   "metadata": {},
   "outputs": [],
   "source": []
  }
 ],
 "metadata": {
  "kernelspec": {
   "display_name": "Python 3",
   "language": "python",
   "name": "python3"
  },
  "language_info": {
   "codemirror_mode": {
    "name": "ipython",
    "version": 3
   },
   "file_extension": ".py",
   "mimetype": "text/x-python",
   "name": "python",
   "nbconvert_exporter": "python",
   "pygments_lexer": "ipython3",
   "version": "3.11.7"
  }
 },
 "nbformat": 4,
 "nbformat_minor": 2
}
