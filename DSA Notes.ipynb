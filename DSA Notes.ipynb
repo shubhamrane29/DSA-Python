{
 "cells": [
  {
   "cell_type": "markdown",
   "metadata": {},
   "source": [
    "<center><h1>Data Structures and Algorithms</h1></center>\n",
    "<hr style=\"border:0.5px solid gray\">"
   ]
  },
  {
   "cell_type": "markdown",
   "metadata": {},
   "source": [
    "### INDEX\n",
    "\n",
    "- <a href='#Introduction'>Introduction</a>\n",
    "- <a href='#Linear Search'>Linear Search</a>\n",
    "- <a href='#Binary Search'>Binary Search</a>\n",
    "- <a href='#Bubble Sort'>Bubble Sort</a>\n",
    "- <a href='#Insertion Sort'>Insertion Sort</a>\n",
    "- <a href='#Selection Sort'>Selection Sort</a>\n",
    "- <a href='#Quick Sort'>Quick Sort</a>\n",
    "- <a href='#Merge Sort'>Merge Sort</a>\n",
    "- <a href='#Heap Sort'>Heap Sort</a>\n",
    "- <a href='#Counting Sort'>Counting Sort</a>\n",
    "- <a href='#Radix Sort'>Radix Sort</a>\n",
    "- <a href='#Bucket Sort'>Bucket Sort</a>\n",
    "- <a href='#Depth-First Search'>Depth First Search</a>\n",
    "- <a href='#Breadth First Search'>Breadth First Search</a>\n",
    "- <a href=\"#Dijkstra's Algorithm\">Dijkstra's Algorithm</a>\n",
    "- <a href='#Bellman-Ford Algorithm'>Bellman-Ford Algorithm</a>\n",
    "- <a href='#Floyd-Warshall Algorithm'>Floyd-Warshall Algorithm</a>\n",
    "- <a href=\"#Prim's Algorithm\">Prim's Algorithm</a>\n",
    "- <a href=\"#Kruskal's Algorithm\">Kruskal's Algorithm</a>\n",
    "- <a href='#Topological Sort'>Topological Sort</a>\n",
    "- <a href='#Dynamic Programming'>Dynamic Programming</a>\n",
    "- <a href='#Knapsack Problem'>Knapsack Problem</a>\n",
    "- <a href='#Traveling Salesman Problem'>Traveling Salesman Problem</a>\n",
    "- <a href='#Convex Hull'>Convex Hull</a>\n",
    "- <a href='#Maximum Flow'>Maximum Flow</a>\n",
    "- <a href='#Minimum Spanning Tree'>Minimum Spanning Tree</a>"
   ]
  },
  {
   "cell_type": "markdown",
   "metadata": {},
   "source": [
    "<a id='Introduction'><h2>Introduction</h2></a>\n",
    "- Data Structure is a way to store and organized data so that it can be stored and used efficiently\n",
    "\n",
    "Built in Data Structures\n",
    "- <a href='#List'>List</a>\n",
    "- <a href='#Tuple'>Tuple</a>\n",
    "- <a href='#Set'>Set</a>\n",
    "- <a href='#Dictionary'>Dictionary</a>\n",
    "\n",
    "User Defined Data Structures\n",
    "- <a href='#Stack'>Stack</a>\n",
    "- <a href='#Queue'>Queue</a>\n",
    "- <a href='#Linked List'>Linked List</a>\n",
    "- <a href='#Tree'>Tree</a>\n",
    "- <a href='#Graph'>Graph</a>\n",
    "\n",
    "Linear And Non Linear Data Structure\n",
    "- Data in Linear data structure are organized linearly where as in non linear data structure they are not organized linearly \n",
    "- Stack, Queue and Linked List comes under Linear Data Structure where as trees and graphs comes under non-linear Data Structures \n",
    "- All the data from linear data structure can be traversed in single run whereas in non linear data structure all the data may not be traversed in a single run\n",
    "\n",
    "<hr style=\"border:0.1px solid gray\">\n",
    "<a id='List'><h3>List</h3></a>\n",
    "\n",
    "- Collection of zero to many elements, seperated by commas in square brackets\n",
    "- [1,2,3,4]\n",
    "- ['Hello', 'World', 1, 4.2]\n",
    "- List are ordered\n",
    "- List can be nested\n",
    "- List are mutable i.e., can be modified\n",
    "- List are dynamic i.e., it can grow and shirt\n",
    "\n",
    "<hr style=\"border:0.1px solid gray\">\n",
    "<a id='Tuple'><h3>Tuple</h3></a>\n",
    "\n",
    "- Collection of zero to many comma seperated elements enclosed in paranthesis\n",
    "- (1,2,3,4)\n",
    "- If we store (2) in tuple its data type can is integer, to make it tuple write (2,)\n",
    "- Tuples aren't mutable\n",
    "- Tuples can be nested\n",
    "- Tuples are faster than list\n",
    "- It guards against accidental modifications\n",
    "\n",
    "<hr style=\"border:0.1px solid gray\">\n",
    "<a id='Dictionary'><h3>Dictionary</h3></a>\n",
    "\n",
    "- Key value parameters seperated by colans\n",
    "- {key1: val1, key2: val2}\n",
    "- Dictionaries are mutable but keys are not mutable i.e., keys can be 'string' but not a ['List']\n",
    "- We should always have unique keys as we access the value in dictionary using keys\n",
    "- Dictionary is not ordered\n",
    "\n",
    "<hr style=\"border:0.1px solid gray\">\n",
    "<a id='Set'><h3>Set</h3></a>\n",
    "\n",
    "- Unique values enclosed in curly brackets\n",
    "- {1,2,3,4}\n",
    "- Repeated elements can be ignored\n",
    "- Set is not ordered\n",
    "- Set is mutable\n",
    "- Set cannot be nested\n",
    "- set can have many data types {'hey;,1,1.3} but cannot have set within {{1,2}, 3}\n",
    "- To check the value we use 'in' operator. s={1,2,3}; 1 in s; True"
   ]
  },
  {
   "cell_type": "markdown",
   "metadata": {},
   "source": [
    "<hr style=\"border:0.1px solid gray\">\n",
    "<a id='Stack'><h3>Stack</h3></a>\n",
    "\n",
    "- Stack is an ordered collection of items\n",
    "- Removal and addition of the item is taken from same end\n",
    "- It is LIFO i.e., Last in first out\n",
    "- It has four operations:\n",
    "    - Push: Adds element to the stack\n",
    "    - Pop: Pops the element out of the stack\n",
    "    - Peek or Top: Gives the element that is present on top\n",
    "    - isEmpty: Stack is empty or not"
   ]
  },
  {
   "cell_type": "code",
   "execution_count": 2,
   "metadata": {},
   "outputs": [
    {
     "name": "stdout",
     "output_type": "stream",
     "text": [
      "Stack is empty: True\n",
      "Stack: [10, 20, 30]\n",
      "Stack after pop: [10, 20]\n",
      "Last element of stack is: 20\n"
     ]
    }
   ],
   "source": [
    "stack = []\n",
    "print('Stack is empty:',not stack)\n",
    "stack.append(10)\n",
    "stack.append(20)\n",
    "stack.append(30)\n",
    "print('Stack:',stack)\n",
    "stack.pop()\n",
    "print('Stack after pop:',stack)\n",
    "print('Last element of stack is:',stack[-1])"
   ]
  },
  {
   "cell_type": "markdown",
   "metadata": {},
   "source": [
    "<hr style=\"border:0.1px solid gray\">\n",
    "<a id='Queue'><h3>Queue</h3></a>\n",
    "\n",
    "- Queue is a linear data structure where element is inserted from one end and removed from other end\n",
    "- It is FIFO i.e., First in first out\n",
    "- Process of adding the element is called enqueue and process of removing the element is called dequeue\n",
    "- The operation of Queue is:\n",
    "    - Enqueue: Adds the element\n",
    "    - Dequeue: Removes the element\n",
    "    - isFull: Checks if the queue is full\n",
    "    - isEmpty: Checks if the queue is empty\n",
    "- In priority queue, FIFO method is ot followed. The data structure is treated on the basis of priority"
   ]
  },
  {
   "cell_type": "code",
   "execution_count": 1,
   "metadata": {},
   "outputs": [
    {
     "name": "stdout",
     "output_type": "stream",
     "text": [
      "[10, 20, 30]\n",
      "[20, 30]\n"
     ]
    }
   ],
   "source": [
    "queue = []\n",
    "#can also use insert method with index 0\n",
    "#queue.insert(0,10)\n",
    "queue.append(10)\n",
    "queue.append(20)\n",
    "queue.append(30)\n",
    "print(queue)\n",
    "queue.pop(0) #First in first out\n",
    "print(queue)"
   ]
  },
  {
   "cell_type": "markdown",
   "metadata": {},
   "source": []
  }
 ],
 "metadata": {
  "kernelspec": {
   "display_name": "Python 3",
   "language": "python",
   "name": "python3"
  },
  "language_info": {
   "codemirror_mode": {
    "name": "ipython",
    "version": 3
   },
   "file_extension": ".py",
   "mimetype": "text/x-python",
   "name": "python",
   "nbconvert_exporter": "python",
   "pygments_lexer": "ipython3",
   "version": "3.11.7"
  }
 },
 "nbformat": 4,
 "nbformat_minor": 2
}
