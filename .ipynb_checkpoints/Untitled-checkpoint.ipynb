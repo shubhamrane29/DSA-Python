{
 "cells": [
  {
   "cell_type": "markdown",
   "id": "c2a313f8-d239-4765-a9b5-d25ac39014c0",
   "metadata": {},
   "source": [
    "### Hey"
   ]
  },
  {
   "cell_type": "markdown",
   "id": "a79e58b7-9d4f-4340-91ae-b559c6cfab1b",
   "metadata": {},
   "source": [
    "Whats"
   ]
  },
  {
   "cell_type": "code",
   "execution_count": null,
   "id": "d81dc295-09be-4539-9dc1-f12d4e4564c3",
   "metadata": {},
   "outputs": [],
   "source": []
  }
 ],
 "metadata": {
  "kernelspec": {
   "display_name": "Python 3 (ipykernel)",
   "language": "python",
   "name": "python3"
  },
  "language_info": {
   "codemirror_mode": {
    "name": "ipython",
    "version": 3
   },
   "file_extension": ".py",
   "mimetype": "text/x-python",
   "name": "python",
   "nbconvert_exporter": "python",
   "pygments_lexer": "ipython3",
   "version": "3.11.7"
  }
 },
 "nbformat": 4,
 "nbformat_minor": 5
}
